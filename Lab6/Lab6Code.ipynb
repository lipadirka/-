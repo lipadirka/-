{
 "cells": [
  {
   "cell_type": "code",
   "execution_count": 1,
   "id": "f2db7f38-3105-47c2-8ed3-c0792e007ade",
   "metadata": {},
   "outputs": [],
   "source": [
    "# Лабораторная работа 6\n",
    "# Библиотеки \n",
    "import numpy as np\n",
    "import matplotlib.pyplot as plt\n",
    "\n",
    "# Инициализация параметров\n",
    "input_dim = 2\n",
    "output_dim = 2\n",
    "learning_rate = 0.5\n",
    "epochs = 100\n",
    "\n"
   ]
  },
  {
   "cell_type": "code",
   "execution_count": 2,
   "id": "7ff3952d-6314-48f6-b458-86c0cff76dfe",
   "metadata": {},
   "outputs": [
    {
     "name": "stdout",
     "output_type": "stream",
     "text": [
      "Epoch 1/100, Квадрадичная ошибка: 2.9909\n",
      "Epoch 2/100, Квадрадичная ошибка: 3.3607\n",
      "Epoch 3/100, Квадрадичная ошибка: 2.9632\n",
      "Epoch 4/100, Квадрадичная ошибка: 3.3484\n",
      "Epoch 5/100, Квадрадичная ошибка: 3.0694\n",
      "Epoch 6/100, Квадрадичная ошибка: 3.4192\n",
      "Epoch 7/100, Квадрадичная ошибка: 2.9952\n",
      "Epoch 8/100, Квадрадичная ошибка: 3.5763\n",
      "Epoch 9/100, Квадрадичная ошибка: 3.1790\n",
      "Epoch 10/100, Квадрадичная ошибка: 3.3258\n",
      "Epoch 11/100, Квадрадичная ошибка: 3.0890\n",
      "Epoch 12/100, Квадрадичная ошибка: 3.0768\n",
      "Epoch 13/100, Квадрадичная ошибка: 3.3875\n",
      "Epoch 14/100, Квадрадичная ошибка: 3.0271\n",
      "Epoch 15/100, Квадрадичная ошибка: 3.3887\n",
      "Epoch 16/100, Квадрадичная ошибка: 3.1791\n",
      "Epoch 17/100, Квадрадичная ошибка: 3.3660\n",
      "Epoch 18/100, Квадрадичная ошибка: 3.0656\n",
      "Epoch 19/100, Квадрадичная ошибка: 3.7883\n",
      "Epoch 20/100, Квадрадичная ошибка: 3.0106\n",
      "Epoch 21/100, Квадрадичная ошибка: 3.4048\n",
      "Epoch 22/100, Квадрадичная ошибка: 3.4782\n",
      "Epoch 23/100, Квадрадичная ошибка: 3.5466\n",
      "Epoch 24/100, Квадрадичная ошибка: 3.5645\n",
      "Epoch 25/100, Квадрадичная ошибка: 3.1622\n",
      "Epoch 26/100, Квадрадичная ошибка: 3.3831\n",
      "Epoch 27/100, Квадрадичная ошибка: 2.8422\n",
      "Epoch 28/100, Квадрадичная ошибка: 3.3291\n",
      "Epoch 29/100, Квадрадичная ошибка: 3.1711\n",
      "Epoch 30/100, Квадрадичная ошибка: 3.0450\n",
      "Epoch 31/100, Квадрадичная ошибка: 2.9307\n",
      "Epoch 32/100, Квадрадичная ошибка: 3.3535\n",
      "Epoch 33/100, Квадрадичная ошибка: 3.2267\n",
      "Epoch 34/100, Квадрадичная ошибка: 3.4747\n",
      "Epoch 35/100, Квадрадичная ошибка: 3.1076\n",
      "Epoch 36/100, Квадрадичная ошибка: 3.5578\n",
      "Epoch 37/100, Квадрадичная ошибка: 3.3502\n",
      "Epoch 38/100, Квадрадичная ошибка: 3.4773\n",
      "Epoch 39/100, Квадрадичная ошибка: 3.0139\n",
      "Epoch 40/100, Квадрадичная ошибка: 3.5518\n",
      "Epoch 41/100, Квадрадичная ошибка: 3.2656\n",
      "Epoch 42/100, Квадрадичная ошибка: 3.2729\n",
      "Epoch 43/100, Квадрадичная ошибка: 2.8923\n",
      "Epoch 44/100, Квадрадичная ошибка: 3.1849\n",
      "Epoch 45/100, Квадрадичная ошибка: 2.9961\n",
      "Epoch 46/100, Квадрадичная ошибка: 3.4164\n",
      "Epoch 47/100, Квадрадичная ошибка: 3.6535\n",
      "Epoch 48/100, Квадрадичная ошибка: 3.2421\n",
      "Epoch 49/100, Квадрадичная ошибка: 2.9939\n",
      "Epoch 50/100, Квадрадичная ошибка: 3.2532\n",
      "Epoch 51/100, Квадрадичная ошибка: 3.3314\n",
      "Epoch 52/100, Квадрадичная ошибка: 3.0553\n",
      "Epoch 53/100, Квадрадичная ошибка: 3.4923\n",
      "Epoch 54/100, Квадрадичная ошибка: 2.9645\n",
      "Epoch 55/100, Квадрадичная ошибка: 3.0849\n",
      "Epoch 56/100, Квадрадичная ошибка: 3.2766\n",
      "Epoch 57/100, Квадрадичная ошибка: 3.0973\n",
      "Epoch 58/100, Квадрадичная ошибка: 3.2130\n",
      "Epoch 59/100, Квадрадичная ошибка: 3.6260\n",
      "Epoch 60/100, Квадрадичная ошибка: 2.9800\n",
      "Epoch 61/100, Квадрадичная ошибка: 3.0997\n",
      "Epoch 62/100, Квадрадичная ошибка: 3.2283\n",
      "Epoch 63/100, Квадрадичная ошибка: 2.9872\n",
      "Epoch 64/100, Квадрадичная ошибка: 3.3939\n",
      "Epoch 65/100, Квадрадичная ошибка: 3.1235\n",
      "Epoch 66/100, Квадрадичная ошибка: 3.4101\n",
      "Epoch 67/100, Квадрадичная ошибка: 3.7070\n",
      "Epoch 68/100, Квадрадичная ошибка: 3.1001\n",
      "Epoch 69/100, Квадрадичная ошибка: 3.2309\n",
      "Epoch 70/100, Квадрадичная ошибка: 3.5115\n",
      "Epoch 71/100, Квадрадичная ошибка: 3.2318\n",
      "Epoch 72/100, Квадрадичная ошибка: 3.4460\n",
      "Epoch 73/100, Квадрадичная ошибка: 3.1863\n",
      "Epoch 74/100, Квадрадичная ошибка: 3.0409\n",
      "Epoch 75/100, Квадрадичная ошибка: 2.9744\n",
      "Epoch 76/100, Квадрадичная ошибка: 3.0645\n",
      "Epoch 77/100, Квадрадичная ошибка: 3.3603\n",
      "Epoch 78/100, Квадрадичная ошибка: 3.1503\n",
      "Epoch 79/100, Квадрадичная ошибка: 2.9438\n",
      "Epoch 80/100, Квадрадичная ошибка: 3.0140\n",
      "Epoch 81/100, Квадрадичная ошибка: 3.2964\n",
      "Epoch 82/100, Квадрадичная ошибка: 3.3687\n",
      "Epoch 83/100, Квадрадичная ошибка: 3.5035\n",
      "Epoch 84/100, Квадрадичная ошибка: 3.3432\n",
      "Epoch 85/100, Квадрадичная ошибка: 3.0354\n",
      "Epoch 86/100, Квадрадичная ошибка: 2.9773\n",
      "Epoch 87/100, Квадрадичная ошибка: 3.2667\n",
      "Epoch 88/100, Квадрадичная ошибка: 3.1933\n",
      "Epoch 89/100, Квадрадичная ошибка: 3.0879\n",
      "Epoch 90/100, Квадрадичная ошибка: 3.2379\n",
      "Epoch 91/100, Квадрадичная ошибка: 3.6277\n",
      "Epoch 92/100, Квадрадичная ошибка: 3.2197\n",
      "Epoch 93/100, Квадрадичная ошибка: 3.2270\n",
      "Epoch 94/100, Квадрадичная ошибка: 3.1258\n",
      "Epoch 95/100, Квадрадичная ошибка: 3.2381\n",
      "Epoch 96/100, Квадрадичная ошибка: 2.9401\n",
      "Epoch 97/100, Квадрадичная ошибка: 3.4195\n",
      "Epoch 98/100, Квадрадичная ошибка: 2.9573\n",
      "Epoch 99/100, Квадрадичная ошибка: 2.9065\n",
      "Epoch 100/100, Квадрадичная ошибка: 3.0151\n"
     ]
    },
    {
     "data": {
      "image/png": "[encoded data removed]",
      "text/plain": [
       "<Figure size 640x480 with 1 Axes>"
      ]
     },
     "metadata": {},
     "output_type": "display_data"
    }
   ],
   "source": [
    "# Генерация случайных точек вокруг двух центров кластеров\n",
    "np.random.seed(12)\n",
    "center1 = np.array([3, 4])\n",
    "center2 = np.array([7, 6])\n",
    "data_cluster1 = center1 + np.random.randn(20, input_dim)\n",
    "data_cluster2 = center2 + np.random.randn(20, input_dim)\n",
    "data = np.concatenate([data_cluster1, data_cluster2])\n",
    "\n",
    "# Инициализация весов сети\n",
    "weights = np.random.rand(output_dim, input_dim)\n",
    "\n",
    "# Обучение сети\n",
    "for epoch in range(epochs):\n",
    "    np.random.shuffle(data)\n",
    "    for point in data:\n",
    "        # Нахождение выигравшего нейрона (ближайшего к точке)\n",
    "        winner_neuron = np.argmin(np.linalg.norm(weights - point, axis=1))  \n",
    "        weights[winner_neuron] += learning_rate * (point - weights[winner_neuron])\n",
    "    error = np.mean(np.linalg.norm(weights - data[:, np.newaxis], axis=2))\n",
    "    print(f'Epoch {epoch + 1}/{epochs}, Квадрадичная ошибка: {error:.4f}')\n",
    "    \n",
    "# Визуализация конечного состояния после обучения\n",
    "plt.scatter(data[:, 0], data[:, 1], c=np.argmin(np.linalg.norm(weights - data[:, np.newaxis], axis=2), axis=1))\n",
    "plt.scatter(weights[:, 0], weights[:, 1], marker='o', s=100, c='green', label='Выигравший нейрон')\n",
    "plt.title(f'График кластеризации')\n",
    "plt.legend()\n",
    "plt.show()\n"
   ]
  },
  {
   "cell_type": "code",
   "execution_count": 3,
   "id": "73613bde-6575-41df-b6ac-aa3ffc435508",
   "metadata": {},
   "outputs": [
    {
     "name": "stdout",
     "output_type": "stream",
     "text": [
      "Точность кластеризации: 52.50%\n"
     ]
    }
   ],
   "source": [
    "# Оценка точности\n",
    "predicted_clusters = np.argmin(np.linalg.norm(weights - data[:, np.newaxis], axis=2), axis=1)\n",
    "true_labels = np.concatenate([np.zeros(20), np.ones(20)])\n",
    "accuracy = np.mean(predicted_clusters == true_labels)\n",
    "print(f'Точность кластеризации: {accuracy * 100:.2f}%')"
   ]
  },
  {
   "cell_type": "code",
   "execution_count": null,
   "id": "24d8d131-ba07-4151-96d7-ccb66cd254c4",
   "metadata": {},
   "outputs": [],
   "source": []
  }
 ],
 "metadata": {
  "kernelspec": {
   "display_name": "Python 3 (ipykernel)",
   "language": "python",
   "name": "python3"
  },
  "language_info": {
   "codemirror_mode": {
    "name": "ipython",
    "version": 3
   },
   "file_extension": ".py",
   "mimetype": "text/x-python",
   "name": "python",
   "nbconvert_exporter": "python",
   "pygments_lexer": "ipython3",
   "version": "3.11.5"
  }
 },
 "nbformat": 4,
 "nbformat_minor": 5
}
